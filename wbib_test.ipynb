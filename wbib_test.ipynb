{
  "nbformat": 4,
  "nbformat_minor": 0,
  "metadata": {
    "colab": {
      "name": "wbib-test.ipynb",
      "provenance": []
    },
    "kernelspec": {
      "name": "python3",
      "display_name": "Python 3"
    },
    "language_info": {
      "name": "python"
    }
  },
  "cells": [
    {
      "cell_type": "markdown",
      "metadata": {
        "id": "V18Quyx5eaSh"
      },
      "source": [
        "## **wbib**\n",
        "## A package for rendering customized Wikidata-based science dashboards. \n",
        "## Inspired by Scholia. Powered by Wikidata.\n",
        "## Documentation https://lubianat.github.io/wbib/examples/basic/"
      ]
    },
    {
      "cell_type": "markdown",
      "metadata": {
        "id": "XtML2anWdJNd"
      },
      "source": [
        "## Basic instalation"
      ]
    },
    {
      "cell_type": "code",
      "metadata": {
        "colab": {
          "base_uri": "https://localhost:8080/"
        },
        "id": "YRdqZAVQVysH",
        "outputId": "0a4b9ce3-0e3f-4b8f-858b-8767b1de4ea4"
      },
      "source": [
        "pip install wbib"
      ],
      "execution_count": 1,
      "outputs": [
        {
          "output_type": "stream",
          "text": [
            "Collecting wbib\n",
            "  Downloading https://files.pythonhosted.org/packages/d2/29/cdedc0cff86f2d43974011cb98a6684acd57d11270e020f17bf5ac8bf3e5/wbib-0.3.4-py2.py3-none-any.whl\n",
            "Collecting wikidata2df\n",
            "  Downloading https://files.pythonhosted.org/packages/d9/31/03cffaee1bca02c503bcee5f94dbd3453f4951d7f2bd52088da2b75a4517/wikidata2df-0.1.0-py2.py3-none-any.whl\n",
            "Requirement already satisfied: Jinja2 in /usr/local/lib/python3.7/dist-packages (from wbib) (2.11.3)\n",
            "Requirement already satisfied: pandas in /usr/local/lib/python3.7/dist-packages (from wbib) (1.1.5)\n",
            "Requirement already satisfied: requests in /usr/local/lib/python3.7/dist-packages (from wikidata2df->wbib) (2.23.0)\n",
            "Requirement already satisfied: MarkupSafe>=0.23 in /usr/local/lib/python3.7/dist-packages (from Jinja2->wbib) (1.1.1)\n",
            "Requirement already satisfied: numpy>=1.15.4 in /usr/local/lib/python3.7/dist-packages (from pandas->wbib) (1.19.5)\n",
            "Requirement already satisfied: python-dateutil>=2.7.3 in /usr/local/lib/python3.7/dist-packages (from pandas->wbib) (2.8.1)\n",
            "Requirement already satisfied: pytz>=2017.2 in /usr/local/lib/python3.7/dist-packages (from pandas->wbib) (2018.9)\n",
            "Requirement already satisfied: certifi>=2017.4.17 in /usr/local/lib/python3.7/dist-packages (from requests->wikidata2df->wbib) (2020.12.5)\n",
            "Requirement already satisfied: urllib3!=1.25.0,!=1.25.1,<1.26,>=1.21.1 in /usr/local/lib/python3.7/dist-packages (from requests->wikidata2df->wbib) (1.24.3)\n",
            "Requirement already satisfied: chardet<4,>=3.0.2 in /usr/local/lib/python3.7/dist-packages (from requests->wikidata2df->wbib) (3.0.4)\n",
            "Requirement already satisfied: idna<3,>=2.5 in /usr/local/lib/python3.7/dist-packages (from requests->wikidata2df->wbib) (2.10)\n",
            "Requirement already satisfied: six>=1.5 in /usr/local/lib/python3.7/dist-packages (from python-dateutil>=2.7.3->pandas->wbib) (1.15.0)\n",
            "Installing collected packages: wikidata2df, wbib\n",
            "Successfully installed wbib-0.3.4 wikidata2df-0.1.0\n"
          ],
          "name": "stdout"
        }
      ]
    },
    {
      "cell_type": "code",
      "metadata": {
        "id": "zf412FwPgziT"
      },
      "source": [
        "import pandas as pd\n",
        "from pathlib import Path\n",
        "from wbib import queries, render\n",
        "from wikidata2df import wikidata2df\n",
        "from jinja2 import Environment, PackageLoader"
      ],
      "execution_count": 2,
      "outputs": []
    },
    {
      "cell_type": "code",
      "metadata": {
        "colab": {
          "base_uri": "https://localhost:8080/"
        },
        "id": "XSEGOkF-h73G",
        "outputId": "aaec128d-1d42-49f3-e724-43b9f65623fc"
      },
      "source": [
        "pip install -U tox-travis"
      ],
      "execution_count": 3,
      "outputs": [
        {
          "output_type": "stream",
          "text": [
            "Collecting tox-travis\n",
            "  Downloading https://files.pythonhosted.org/packages/b9/62/940f7fdb0d207a90ebf8389b59679ed4c3b4b36357054a30dda6274ee6d0/tox_travis-0.12-py2.py3-none-any.whl\n",
            "Collecting tox>=2.0\n",
            "\u001b[?25l  Downloading https://files.pythonhosted.org/packages/d8/63/2fa635ac1b8a22e960654b07c270dfb53eb873aba261006536de40327b18/tox-3.23.1-py2.py3-none-any.whl (85kB)\n",
            "\u001b[K     |████████████████████████████████| 92kB 3.2MB/s \n",
            "\u001b[?25hRequirement already satisfied, skipping upgrade: six>=1.14.0 in /usr/local/lib/python3.7/dist-packages (from tox>=2.0->tox-travis) (1.15.0)\n",
            "Requirement already satisfied, skipping upgrade: packaging>=14 in /usr/local/lib/python3.7/dist-packages (from tox>=2.0->tox-travis) (20.9)\n",
            "Collecting pluggy>=0.12.0\n",
            "  Downloading https://files.pythonhosted.org/packages/a0/28/85c7aa31b80d150b772fbe4a229487bc6644da9ccb7e427dd8cc60cb8a62/pluggy-0.13.1-py2.py3-none-any.whl\n",
            "Collecting virtualenv!=20.0.0,!=20.0.1,!=20.0.2,!=20.0.3,!=20.0.4,!=20.0.5,!=20.0.6,!=20.0.7,>=16.0.0\n",
            "\u001b[?25l  Downloading https://files.pythonhosted.org/packages/80/59/f8815ff01ac7eff0f628c454f2d2b4cace19b70ccc9dcdbc61c3eb7f599d/virtualenv-20.4.6-py2.py3-none-any.whl (7.2MB)\n",
            "\u001b[K     |████████████████████████████████| 7.2MB 8.7MB/s \n",
            "\u001b[?25hRequirement already satisfied, skipping upgrade: importlib-metadata>=0.12; python_version < \"3.8\" in /usr/local/lib/python3.7/dist-packages (from tox>=2.0->tox-travis) (4.0.1)\n",
            "Requirement already satisfied, skipping upgrade: filelock>=3.0.0 in /usr/local/lib/python3.7/dist-packages (from tox>=2.0->tox-travis) (3.0.12)\n",
            "Requirement already satisfied, skipping upgrade: toml>=0.9.4 in /usr/local/lib/python3.7/dist-packages (from tox>=2.0->tox-travis) (0.10.2)\n",
            "Requirement already satisfied, skipping upgrade: py>=1.4.17 in /usr/local/lib/python3.7/dist-packages (from tox>=2.0->tox-travis) (1.10.0)\n",
            "Requirement already satisfied, skipping upgrade: pyparsing>=2.0.2 in /usr/local/lib/python3.7/dist-packages (from packaging>=14->tox>=2.0->tox-travis) (2.4.7)\n",
            "Requirement already satisfied, skipping upgrade: appdirs<2,>=1.4.3 in /usr/local/lib/python3.7/dist-packages (from virtualenv!=20.0.0,!=20.0.1,!=20.0.2,!=20.0.3,!=20.0.4,!=20.0.5,!=20.0.6,!=20.0.7,>=16.0.0->tox>=2.0->tox-travis) (1.4.4)\n",
            "Collecting distlib<1,>=0.3.1\n",
            "\u001b[?25l  Downloading https://files.pythonhosted.org/packages/f5/0a/490fa011d699bb5a5f3a0cf57de82237f52a6db9d40f33c53b2736c9a1f9/distlib-0.3.1-py2.py3-none-any.whl (335kB)\n",
            "\u001b[K     |████████████████████████████████| 337kB 40.3MB/s \n",
            "\u001b[?25hRequirement already satisfied, skipping upgrade: zipp>=0.5 in /usr/local/lib/python3.7/dist-packages (from importlib-metadata>=0.12; python_version < \"3.8\"->tox>=2.0->tox-travis) (3.4.1)\n",
            "Requirement already satisfied, skipping upgrade: typing-extensions>=3.6.4; python_version < \"3.8\" in /usr/local/lib/python3.7/dist-packages (from importlib-metadata>=0.12; python_version < \"3.8\"->tox>=2.0->tox-travis) (3.7.4.3)\n",
            "\u001b[31mERROR: pytest 3.6.4 has requirement pluggy<0.8,>=0.5, but you'll have pluggy 0.13.1 which is incompatible.\u001b[0m\n",
            "\u001b[31mERROR: datascience 0.10.6 has requirement folium==0.2.1, but you'll have folium 0.8.3 which is incompatible.\u001b[0m\n",
            "Installing collected packages: pluggy, distlib, virtualenv, tox, tox-travis\n",
            "  Found existing installation: pluggy 0.7.1\n",
            "    Uninstalling pluggy-0.7.1:\n",
            "      Successfully uninstalled pluggy-0.7.1\n",
            "Successfully installed distlib-0.3.1 pluggy-0.13.1 tox-3.23.1 tox-travis-0.12 virtualenv-20.4.6\n"
          ],
          "name": "stdout"
        }
      ]
    },
    {
      "cell_type": "markdown",
      "metadata": {
        "id": "OjqFPXocdMSj"
      },
      "source": [
        "## Basic usage"
      ]
    },
    {
      "cell_type": "code",
      "metadata": {
        "id": "Ub5anEsMdTHg"
      },
      "source": [
        "from wbib import wbib\n"
      ],
      "execution_count": 4,
      "outputs": []
    },
    {
      "cell_type": "markdown",
      "metadata": {
        "id": "3Lq5461HdYeX"
      },
      "source": [
        "## Generate list of QIDs from a list of DOIs\n",
        "## 10.1590/1678-4685-GMB-2020-0203\n",
        "## 10.1007/s10815-021-02141-0\n",
        "## 10.1016/j.ymgme.2020.12.268"
      ]
    },
    {
      "cell_type": "code",
      "metadata": {
        "colab": {
          "base_uri": "https://localhost:8080/"
        },
        "id": "Vgwb2sSzdzPy",
        "outputId": "a923f1e8-37ac-4dee-9f92-baac7c5e2433"
      },
      "source": [
        "dois = [\"10.1590/1678-4685-GMB-2020-0203\", \"10.1007/s10815-021-02141-0\", \"10.1016/j.ymgme.2020.12.268\", \"wrong or missing DOI\"]\n",
        "qids = wbib.convert_doi_to_qid(dois)\n",
        "print(qids)"
      ],
      "execution_count": 5,
      "outputs": [
        {
          "output_type": "stream",
          "text": [
            "{'qids': {'Q106349998', 'Q106356955'}, 'missing': {'10.1016/j.ymgme.2020.12.268', 'wrong or missing DOI'}}\n"
          ],
          "name": "stdout"
        }
      ]
    },
    {
      "cell_type": "markdown",
      "metadata": {
        "id": "zjcgrWcqe9Ww"
      },
      "source": [
        "## Render dashboard from a list of QIDs"
      ]
    },
    {
      "cell_type": "code",
      "metadata": {
        "id": "t60qOgJue-1l"
      },
      "source": [
        "qids = [\"Q106349998\", \"Q106356955\"]\n",
        "html = wbib.render_dashboard(info=qids, mode=\"basic\", filepath=\"dashboard.html\")"
      ],
      "execution_count": 6,
      "outputs": []
    },
    {
      "cell_type": "markdown",
      "metadata": {
        "id": "2_wHl40qYlm0"
      },
      "source": [
        ""
      ]
    }
  ]
}